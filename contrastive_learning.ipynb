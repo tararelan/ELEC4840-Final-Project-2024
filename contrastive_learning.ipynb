{
  "cells": [
    {
      "cell_type": "markdown",
      "metadata": {
        "id": "view-in-github",
        "colab_type": "text"
      },
      "source": [
        "<a href=\"https://colab.research.google.com/github/tararelan/ELEC4840-Final-Project-2024/blob/main/contrastive_learning.ipynb\" target=\"_parent\"><img src=\"https://colab.research.google.com/assets/colab-badge.svg\" alt=\"Open In Colab\"/></a>"
      ]
    },
    {
      "cell_type": "markdown",
      "metadata": {
        "id": "Hci3KvN7ivcH"
      },
      "source": [
        "# 1. Download and unzip data"
      ]
    },
    {
      "cell_type": "code",
      "execution_count": null,
      "metadata": {
        "colab": {
          "base_uri": "https://localhost:8080/"
        },
        "id": "ZXeyyLwuD6mr",
        "outputId": "f3003cf8-9ebe-4cb8-d911-f2439b9294f8"
      },
      "outputs": [
        {
          "output_type": "stream",
          "name": "stdout",
          "text": [
            "--2024-05-19 17:05:47--  https://isic-challenge-data.s3.amazonaws.com/2016/ISBI2016_ISIC_Part3_Training_Data.zip\n",
            "Resolving isic-challenge-data.s3.amazonaws.com (isic-challenge-data.s3.amazonaws.com)... 3.5.1.131, 52.216.40.9, 52.216.106.107, ...\n",
            "Connecting to isic-challenge-data.s3.amazonaws.com (isic-challenge-data.s3.amazonaws.com)|3.5.1.131|:443... connected.\n",
            "HTTP request sent, awaiting response... 200 OK\n",
            "Length: 631625308 (602M) [application/zip]\n",
            "Saving to: ‘ISBI2016_ISIC_Part3_Training_Data.zip’\n",
            "\n",
            "ISBI2016_ISIC_Part3 100%[===================>] 602.36M  16.0MB/s    in 42s     \n",
            "\n",
            "2024-05-19 17:06:30 (14.3 MB/s) - ‘ISBI2016_ISIC_Part3_Training_Data.zip’ saved [631625308/631625308]\n",
            "\n",
            "--2024-05-19 17:06:30--  https://isic-challenge-data.s3.amazonaws.com/2016/ISBI2016_ISIC_Part3_Test_Data.zip\n",
            "Resolving isic-challenge-data.s3.amazonaws.com (isic-challenge-data.s3.amazonaws.com)... 52.216.161.171, 52.216.58.1, 3.5.25.211, ...\n",
            "Connecting to isic-challenge-data.s3.amazonaws.com (isic-challenge-data.s3.amazonaws.com)|52.216.161.171|:443... connected.\n",
            "HTTP request sent, awaiting response... 200 OK\n",
            "Length: 242932767 (232M) [application/zip]\n",
            "Saving to: ‘ISBI2016_ISIC_Part3_Test_Data.zip’\n",
            "\n",
            "ISBI2016_ISIC_Part3 100%[===================>] 231.68M  15.9MB/s    in 16s     \n",
            "\n",
            "2024-05-19 17:06:47 (14.2 MB/s) - ‘ISBI2016_ISIC_Part3_Test_Data.zip’ saved [242932767/242932767]\n",
            "\n",
            "--2024-05-19 17:06:47--  https://isic-challenge-data.s3.amazonaws.com/2016/ISBI2016_ISIC_Part3_Training_GroundTruth.csv\n",
            "Resolving isic-challenge-data.s3.amazonaws.com (isic-challenge-data.s3.amazonaws.com)... 3.5.28.232, 3.5.25.223, 16.182.42.113, ...\n",
            "Connecting to isic-challenge-data.s3.amazonaws.com (isic-challenge-data.s3.amazonaws.com)|3.5.28.232|:443... connected.\n",
            "HTTP request sent, awaiting response... 200 OK\n",
            "Length: 19419 (19K) [text/csv]\n",
            "Saving to: ‘ISBI2016_ISIC_Part3_Training_GroundTruth.csv’\n",
            "\n",
            "ISBI2016_ISIC_Part3 100%[===================>]  18.96K  --.-KB/s    in 0.001s  \n",
            "\n",
            "2024-05-19 17:06:48 (36.3 MB/s) - ‘ISBI2016_ISIC_Part3_Training_GroundTruth.csv’ saved [19419/19419]\n",
            "\n",
            "--2024-05-19 17:06:48--  https://isic-challenge-data.s3.amazonaws.com/2016/ISBI2016_ISIC_Part3_Test_GroundTruth.csv\n",
            "Resolving isic-challenge-data.s3.amazonaws.com (isic-challenge-data.s3.amazonaws.com)... 3.5.28.232, 3.5.25.223, 16.182.42.113, ...\n",
            "Connecting to isic-challenge-data.s3.amazonaws.com (isic-challenge-data.s3.amazonaws.com)|3.5.28.232|:443... connected.\n",
            "HTTP request sent, awaiting response... 200 OK\n",
            "Length: 6822 (6.7K) [text/csv]\n",
            "Saving to: ‘ISBI2016_ISIC_Part3_Test_GroundTruth.csv’\n",
            "\n",
            "ISBI2016_ISIC_Part3 100%[===================>]   6.66K  --.-KB/s    in 0s      \n",
            "\n",
            "2024-05-19 17:06:49 (100 MB/s) - ‘ISBI2016_ISIC_Part3_Test_GroundTruth.csv’ saved [6822/6822]\n",
            "\n"
          ]
        }
      ],
      "source": [
        "!wget https://isic-challenge-data.s3.amazonaws.com/2016/ISBI2016_ISIC_Part3_Training_Data.zip\n",
        "!wget https://isic-challenge-data.s3.amazonaws.com/2016/ISBI2016_ISIC_Part3_Test_Data.zip\n",
        "!wget https://isic-challenge-data.s3.amazonaws.com/2016/ISBI2016_ISIC_Part3_Training_GroundTruth.csv\n",
        "!wget https://isic-challenge-data.s3.amazonaws.com/2016/ISBI2016_ISIC_Part3_Test_GroundTruth.csv\n",
        "!unzip -qq \"./ISBI2016_ISIC_Part3_Test_Data.zip\"\n",
        "!unzip -qq \"./ISBI2016_ISIC_Part3_Training_Data.zip\""
      ]
    },
    {
      "cell_type": "markdown",
      "metadata": {
        "id": "RovDpxZFi-KA"
      },
      "source": [
        "# 2. Make training, validation and test image folders by training and test csv files\n",
        "[ImageFolder](https://pytorch.org/vision/main/generated/torchvision.datasets.ImageFolder.html)"
      ]
    },
    {
      "cell_type": "code",
      "execution_count": null,
      "metadata": {
        "id": "2WLrB9eWG3Nn"
      },
      "outputs": [],
      "source": [
        "'''\n",
        "You are recommended to use torchvision.datasets.ImageFolder to load data into the Pytorch dataset.\n",
        "To employ ImageFolder, the images should be arranged into:\n",
        "\n",
        "  root: train/val/test\n",
        "    class_a\n",
        "      a1.png\n",
        "      a2.png\n",
        "      ...\n",
        "    class_b\n",
        "      b1.png\n",
        "      b2.png\n",
        "      ...\n",
        "\n",
        "Write your codes here to organize the original data and split the data into training/validation/test set.\n",
        "'''\n",
        "\n",
        "import os\n",
        "import pandas as pd\n",
        "from sklearn.model_selection import train_test_split\n",
        "\n",
        "# csv files\n",
        "dftrain = pd.read_csv('ISBI2016_ISIC_Part3_Training_GroundTruth.csv',header=None)\n",
        "dftest = pd.read_csv('ISBI2016_ISIC_Part3_Test_GroundTruth.csv',header=None)\n",
        "dftrain.columns=[\"id\",\"class\"]\n",
        "dftest.columns=[\"id\",\"class\"]\n",
        "\n",
        "# make root path\n",
        "os.makedirs('train', exist_ok=True)\n",
        "os.makedirs('val', exist_ok=True)\n",
        "os.makedirs('test', exist_ok=True)\n",
        "\n",
        "# split\n",
        "train, val = train_test_split(dftrain, test_size=0.2, random_state=42, stratify=dftrain[\"class\"])\n",
        "\n",
        "# copy files\n",
        "for df, rootdir in [(train, 'train'), (val, 'val'), (dftest, 'test')]:\n",
        "  for i, row in df.iterrows():\n",
        "    filename = row['id'] + '.jpg'\n",
        "    if rootdir != 'test':\n",
        "      src = os.path.join('ISBI2016_ISIC_Part3_Training_Data', filename)#source path\n",
        "    else:\n",
        "      src = os.path.join('ISBI2016_ISIC_Part3_Test_Data', filename) #source path\n",
        "    classname = row['class']\n",
        "    classes = ['benign','malignant']\n",
        "    if classname not in classes:\n",
        "      classname = classes[int(classname)]\n",
        "    dest = os.path.join(rootdir, classname, filename) #target path\n",
        "    os.makedirs(os.path.dirname(dest), exist_ok=True) #make class folder\n",
        "    # move files\n",
        "    !cp $src $dest"
      ]
    },
    {
      "cell_type": "markdown",
      "metadata": {
        "id": "B77B7mO0jw6K"
      },
      "source": [
        "# 3. Prepare data and build dataloaders"
      ]
    },
    {
      "cell_type": "code",
      "execution_count": null,
      "metadata": {
        "id": "vizcUhavjvm3"
      },
      "outputs": [],
      "source": [
        "from torchvision.datasets import ImageFolder\n",
        "from torchvision import transforms\n",
        "import torch\n",
        "\n",
        "root_train, root_val, root_test = \"train/\", \"val/\", \"test/\"# -- write your codes here: the root path of training/validation/test set\n",
        "\n",
        "train_transform = transforms.Compose([\n",
        "    # -- write your codes here: data preprocessing and augmentation\n",
        "    transforms.RandomResizedCrop(224),\n",
        "    # transforms.RandomHorizontalFlip(),\n",
        "    transforms.ToTensor(),\n",
        "    transforms.Normalize(mean=[0.485, 0.456, 0.406], std=[0.229, 0.224, 0.225])\n",
        "])\n",
        "\n",
        "test_transform = transforms.Compose([\n",
        "    # -- write your codes here: data preprocessing\n",
        "    transforms.Resize(256),\n",
        "    transforms.CenterCrop(224),\n",
        "    transforms.ToTensor(),\n",
        "    transforms.Normalize(mean=[0.485, 0.456, 0.406], std=[0.229, 0.224, 0.225])\n",
        "])\n",
        "\n",
        "def get_train_test_set(batch_size):\n",
        "    train_dataset = ImageFolder(root_train, transform=train_transform)\n",
        "    loader_train = torch.utils.data.DataLoader(\n",
        "        dataset=train_dataset,\n",
        "        batch_size=batch_size,\n",
        "        shuffle=True\n",
        "        )\n",
        "\n",
        "    val_dataset = ImageFolder(root_val, transform=test_transform)\n",
        "    loader_val = torch.utils.data.DataLoader(\n",
        "        dataset=val_dataset,\n",
        "        batch_size=batch_size,\n",
        "        shuffle=False\n",
        "        )\n",
        "\n",
        "    test_dataset = ImageFolder(root_test, transform=test_transform)\n",
        "    loader_test = torch.utils.data.DataLoader(\n",
        "        dataset=test_dataset,\n",
        "        batch_size=batch_size,\n",
        "        shuffle=False\n",
        "        )\n",
        "\n",
        "    return loader_train, loader_val, loader_test\n",
        "\n",
        "batch_size = 16\n",
        "loader_train, loader_val, loader_test = get_train_test_set(batch_size)"
      ]
    },
    {
      "cell_type": "markdown",
      "metadata": {
        "id": "zrEdDAUPmJtt"
      },
      "source": [
        "# 4. Build the network"
      ]
    },
    {
      "cell_type": "markdown",
      "metadata": {
        "id": "_imLoR2bVbtz"
      },
      "source": [
        "## Implement ResNet50"
      ]
    },
    {
      "cell_type": "code",
      "execution_count": null,
      "metadata": {
        "id": "ggxJrmzPmP8L"
      },
      "outputs": [],
      "source": [
        "import math\n",
        "import torch\n",
        "import torch.nn as nn\n",
        "import torch.nn.functional as F\n",
        "from torchvision.models import resnet50\n",
        "\n",
        "class Bottleneck(nn.Module):\n",
        "    '''\n",
        "    The single block in ResNet\n",
        "    '''\n",
        "    expansion = 4\n",
        "    def __init__(self, inplanes, planes, stride=1, downsample=None):\n",
        "        super(Bottleneck, self).__init__()\n",
        "        # -- write your codes here\n",
        "        self.conv1 = nn.Conv2d(inplanes, planes, kernel_size=1, stride=1, bias=False)\n",
        "        self.bn1 = nn.BatchNorm2d(planes)\n",
        "        self.conv2 = nn.Conv2d(planes, planes, kernel_size=3, stride=stride, bias=False, padding=1, groups=1, dilation=1)\n",
        "        self.bn2 = nn.BatchNorm2d(planes)\n",
        "        self.conv3 = nn.Conv2d(planes, planes * self.expansion, kernel_size=1, stride=1, bias=False)\n",
        "        self.bn3 = nn.BatchNorm2d(planes * self.expansion)\n",
        "        self.relu = nn.ReLU(inplace=True)\n",
        "        self.downsample = downsample\n",
        "        self.stride = stride\n",
        "\n",
        "    def forward(self, x):\n",
        "        # -- write your codes here\n",
        "        #conv1\n",
        "        out = self.conv1(x)\n",
        "        out = self.bn1(out)\n",
        "        out = self.relu(out)\n",
        "        #conv2\n",
        "        out = self.conv2(out)\n",
        "        out = self.bn2(out)\n",
        "        out = self.relu(out)\n",
        "        #conv3\n",
        "        out = self.conv3(out)\n",
        "        out = self.bn3(out)\n",
        "        # shortcut\n",
        "        identity = x\n",
        "        # print(f\"identity shape: {identity.shape}\")\n",
        "        if self.downsample is not None:\n",
        "            identity = self.downsample(x)\n",
        "            # print(f\"down identity shape: {identity.shape}\")\n",
        "        # print(f\"out shape: {out.shape}\")\n",
        "        out += identity\n",
        "        out = self.relu(out)\n",
        "        return out\n",
        "\n",
        "class ResNet(nn.Module):\n",
        "    def __init__(self, block, layers, use_fc=False, dropout=None):\n",
        "        self.inplanes = 64\n",
        "        super(ResNet, self).__init__()\n",
        "\n",
        "        self.conv1 = nn.Conv2d(3, 64, kernel_size=7, stride=2, padding=3,bias=False)\n",
        "        self.bn1 = nn.BatchNorm2d(64)\n",
        "        self.relu = nn.ReLU(inplace=True)\n",
        "        self.maxpool = nn.MaxPool2d(kernel_size=3, stride=2, padding=1)\n",
        "\n",
        "        ### stacking layers\n",
        "        self.layer1 = self._make_layer(block, 64, layers[0])\n",
        "        self.layer2 = self._make_layer(block, 128, layers[1], stride=2)\n",
        "        self.layer3 = self._make_layer(block, 256, layers[2], stride=2)\n",
        "        self.layer4 = self._make_layer(block, 512, layers[3], stride=2)\n",
        "\n",
        "        self.avgpool = nn.AvgPool2d(7, stride=1)\n",
        "\n",
        "        self.use_fc = use_fc\n",
        "        self.use_dropout = True if dropout else False\n",
        "        if self.use_fc:\n",
        "            print('Using fc.')\n",
        "            self.fc_add = nn.Linear(512*block.expansion, 512)\n",
        "        if self.use_dropout:\n",
        "            print('Using dropout.')\n",
        "            self.dropout = nn.Dropout(p=dropout)\n",
        "\n",
        "        for m in self.modules():\n",
        "            if isinstance(m, nn.Conv2d):\n",
        "                n = m.kernel_size[0] * m.kernel_size[1] * m.out_channels\n",
        "                m.weight.data.normal_(0, math.sqrt(2. / n))\n",
        "            elif isinstance(m, nn.BatchNorm2d):\n",
        "                m.weight.data.fill_(1)\n",
        "                m.bias.data.zero_()\n",
        "\n",
        "    def _make_layer(self, block, planes, blocks, stride=1):\n",
        "        '''\n",
        "        Buiding ResNet layer by stacking blocks\n",
        "        '''\n",
        "        downsample = None\n",
        "        if stride != 1 or self.inplanes != planes * block.expansion:\n",
        "            downsample = nn.Sequential(\n",
        "                nn.Conv2d(self.inplanes, planes * block.expansion,\n",
        "                          kernel_size=1, stride=stride, bias=False),\n",
        "                nn.BatchNorm2d(planes * block.expansion),\n",
        "            )\n",
        "        layers = []\n",
        "        layers.append(block(self.inplanes, planes, stride, downsample))\n",
        "        self.inplanes = planes * block.expansion\n",
        "        for i in range(1, blocks):\n",
        "            layers.append(block(self.inplanes, planes))\n",
        "        return nn.Sequential(*layers)\n",
        "\n",
        "    def forward(self, x, *args):\n",
        "        # -- write your codes here\n",
        "        x = self.conv1(x)\n",
        "        x = self.bn1(x)\n",
        "        x = self.relu(x)\n",
        "        x = self.maxpool(x)\n",
        "        # residuals\n",
        "        x = self.layer1(x)\n",
        "        x = self.layer2(x)\n",
        "        x = self.layer3(x)\n",
        "        x = self.layer4(x)\n",
        "        # ave pool\n",
        "        x = self.avgpool(x)\n",
        "        # fc\n",
        "        x = torch.flatten(x, 1)\n",
        "        if self.use_fc:\n",
        "          x = self.fc_add(x)\n",
        "        if self.use_dropout:\n",
        "          x = self.dropout(x)\n",
        "\n",
        "        return x\n",
        "\n",
        "def get_resnet50(pre_trained=True):\n",
        "    Resnet50 = ResNet(Bottleneck, [3, 4, 6, 3], dropout=None)\n",
        "    if pre_trained:\n",
        "        pre_trained = resnet50(weights = \"IMAGENET1K_V2\").state_dict()\n",
        "        new_weights = {k: pre_trained[k] for k in Resnet50.state_dict()}\n",
        "        Resnet50.load_state_dict(new_weights)\n",
        "    return Resnet50"
      ]
    },
    {
      "cell_type": "markdown",
      "metadata": {
        "id": "9wENbOekVlwR"
      },
      "source": [
        "## Create Classification Model"
      ]
    },
    {
      "cell_type": "code",
      "execution_count": null,
      "metadata": {
        "colab": {
          "base_uri": "https://localhost:8080/"
        },
        "id": "z2ep693sViiP",
        "outputId": "82271bd8-54a0-4263-95f6-d89b246d30ad"
      },
      "outputs": [
        {
          "output_type": "stream",
          "name": "stderr",
          "text": [
            "Downloading: \"https://download.pytorch.org/models/resnet50-11ad3fa6.pth\" to /root/.cache/torch/hub/checkpoints/resnet50-11ad3fa6.pth\n",
            "100%|██████████| 97.8M/97.8M [00:00<00:00, 163MB/s]\n"
          ]
        }
      ],
      "source": [
        "class ClassificationModel(nn.Module):\n",
        "    def __init__(self, encoder, num_classes=1):\n",
        "        super(ClassificationModel, self).__init__()\n",
        "        ### apply a vision encoder (ResNet-50 will be applied here)\n",
        "        self.encoder = encoder\n",
        "        # -- write your codes here: add a classifier to project the visual features\n",
        "        # self.fc = nn.Linear(encoder.state_dict()[\"layer4.0.bn3.weight\"].shape[0], num_classes)\n",
        "        self.fc = nn.Linear(encoder.layer4[-1].conv3.out_channels, num_classes)\n",
        "    def forward(self, x):\n",
        "        # -- write your codes here:\n",
        "        x = self.encoder(x)\n",
        "        x = self.fc(x)\n",
        "        return x\n",
        "\n",
        "resnet50 = get_resnet50(pre_trained=True)\n",
        "model = ClassificationModel(resnet50, 1)"
      ]
    },
    {
      "cell_type": "markdown",
      "metadata": {
        "id": "5Q4AZq_enGEI"
      },
      "source": [
        "### 5. Train and test your model"
      ]
    },
    {
      "cell_type": "code",
      "execution_count": null,
      "metadata": {
        "colab": {
          "base_uri": "https://localhost:8080/"
        },
        "id": "vfSsJ4AbnEID",
        "outputId": "1a873421-615e-4724-913a-890bd1812aeb"
      },
      "outputs": [
        {
          "output_type": "stream",
          "name": "stdout",
          "text": [
            " -- Epoch 1/20\n"
          ]
        },
        {
          "output_type": "stream",
          "name": "stderr",
          "text": [
            "100%|██████████| 45/45 [00:39<00:00,  1.14it/s]\n"
          ]
        },
        {
          "output_type": "stream",
          "name": "stdout",
          "text": [
            "Epoch 0: train_loss=0.03658824906580978, train_auc=0.5243911549379949, train_acc=0.7986111111111112\n",
            "--- val_loss=0.17474803518917825, val_auc=0.5684729064039409, val_acc=0.8111111111111111\n",
            " -- Epoch 2/20\n"
          ]
        },
        {
          "output_type": "stream",
          "name": "stderr",
          "text": [
            "100%|██████████| 45/45 [00:29<00:00,  1.52it/s]\n"
          ]
        },
        {
          "output_type": "stream",
          "name": "stdout",
          "text": [
            "Epoch 1: train_loss=0.03407337953233057, train_auc=0.5116166143732258, train_acc=0.7958333333333333\n",
            "--- val_loss=0.03692099576195081, val_auc=0.4896551724137931, val_acc=0.7888888888888889\n",
            " -- Epoch 3/20\n"
          ]
        },
        {
          "output_type": "stream",
          "name": "stderr",
          "text": [
            "100%|██████████| 45/45 [00:30<00:00,  1.45it/s]\n"
          ]
        },
        {
          "output_type": "stream",
          "name": "stdout",
          "text": [
            "Epoch 2: train_loss=0.031109504215419293, train_auc=0.5295457941132526, train_acc=0.8069444444444445\n",
            "--- val_loss=0.04480537163714568, val_auc=0.5, val_acc=0.8055555555555556\n",
            " -- Epoch 4/20\n"
          ]
        },
        {
          "output_type": "stream",
          "name": "stderr",
          "text": [
            "100%|██████████| 45/45 [00:29<00:00,  1.52it/s]\n"
          ]
        },
        {
          "output_type": "stream",
          "name": "stdout",
          "text": [
            "Epoch 3: train_loss=0.02863418859326177, train_auc=0.5386971462722248, train_acc=0.8083333333333333\n",
            "--- val_loss=0.05748456983516614, val_auc=0.5, val_acc=0.8055555555555556\n",
            " -- Epoch 5/20\n"
          ]
        },
        {
          "output_type": "stream",
          "name": "stderr",
          "text": [
            "100%|██████████| 45/45 [00:29<00:00,  1.52it/s]\n"
          ]
        },
        {
          "output_type": "stream",
          "name": "stdout",
          "text": [
            "Epoch 4: train_loss=0.02750748491121663, train_auc=0.5568130883012101, train_acc=0.8152777777777778\n",
            "--- val_loss=0.03982686942650212, val_auc=0.5216748768472906, val_acc=0.8055555555555556\n",
            " -- Epoch 6/20\n"
          ]
        },
        {
          "output_type": "stream",
          "name": "stderr",
          "text": [
            "100%|██████████| 45/45 [00:30<00:00,  1.49it/s]\n"
          ]
        },
        {
          "output_type": "stream",
          "name": "stdout",
          "text": [
            "Epoch 5: train_loss=0.027124685442282095, train_auc=0.5738831615120275, train_acc=0.825\n",
            "--- val_loss=0.036031861106554666, val_auc=0.5768472906403941, val_acc=0.7722222222222223\n",
            " -- Epoch 7/20\n"
          ]
        },
        {
          "output_type": "stream",
          "name": "stderr",
          "text": [
            "100%|██████████| 45/45 [00:29<00:00,  1.51it/s]\n"
          ]
        },
        {
          "output_type": "stream",
          "name": "stdout",
          "text": [
            "Epoch 6: train_loss=0.02865009502404266, train_auc=0.5614821455251756, train_acc=0.8138888888888889\n",
            "--- val_loss=0.035598832451634935, val_auc=0.5, val_acc=0.8055555555555556\n",
            " -- Epoch 8/20\n"
          ]
        },
        {
          "output_type": "stream",
          "name": "stderr",
          "text": [
            "100%|██████████| 45/45 [00:29<00:00,  1.54it/s]\n"
          ]
        },
        {
          "output_type": "stream",
          "name": "stdout",
          "text": [
            "Epoch 7: train_loss=0.02803019875039657, train_auc=0.5167712535484834, train_acc=0.8041666666666667\n",
            "--- val_loss=0.046834265689055125, val_auc=0.49704433497536943, val_acc=0.7833333333333333\n",
            " -- Epoch 9/20\n"
          ]
        },
        {
          "output_type": "stream",
          "name": "stderr",
          "text": [
            "100%|██████████| 45/45 [00:29<00:00,  1.53it/s]\n"
          ]
        },
        {
          "output_type": "stream",
          "name": "stdout",
          "text": [
            "Epoch 8: train_loss=0.029330281789104143, train_auc=0.5307784252203795, train_acc=0.8\n",
            "--- val_loss=0.14343339041289355, val_auc=0.5, val_acc=0.8055555555555556\n",
            " -- Epoch 10/20\n"
          ]
        },
        {
          "output_type": "stream",
          "name": "stderr",
          "text": [
            "100%|██████████| 45/45 [00:29<00:00,  1.53it/s]\n"
          ]
        },
        {
          "output_type": "stream",
          "name": "stdout",
          "text": [
            "Epoch 9: train_loss=0.030004483606252404, train_auc=0.4991408934707904, train_acc=0.8069444444444445\n",
            "--- val_loss=0.03402681607339117, val_auc=0.5, val_acc=0.8055555555555556\n",
            " -- Epoch 11/20\n"
          ]
        },
        {
          "output_type": "stream",
          "name": "stderr",
          "text": [
            "100%|██████████| 45/45 [00:28<00:00,  1.56it/s]\n"
          ]
        },
        {
          "output_type": "stream",
          "name": "stdout",
          "text": [
            "Epoch 10: train_loss=0.02734106249279446, train_auc=0.5421335723890632, train_acc=0.8138888888888889\n",
            "--- val_loss=0.03490046088894208, val_auc=0.5142857142857142, val_acc=0.8111111111111111\n",
            " -- Epoch 12/20\n"
          ]
        },
        {
          "output_type": "stream",
          "name": "stderr",
          "text": [
            "100%|██████████| 45/45 [00:29<00:00,  1.54it/s]\n"
          ]
        },
        {
          "output_type": "stream",
          "name": "stdout",
          "text": [
            "Epoch 11: train_loss=0.02750005962120162, train_auc=0.540415359330644, train_acc=0.8111111111111111\n",
            "--- val_loss=0.04394516261915366, val_auc=0.5, val_acc=0.8055555555555556\n",
            " -- Epoch 13/20\n"
          ]
        },
        {
          "output_type": "stream",
          "name": "stderr",
          "text": [
            "100%|██████████| 45/45 [00:29<00:00,  1.53it/s]\n"
          ]
        },
        {
          "output_type": "stream",
          "name": "stdout",
          "text": [
            "Epoch 12: train_loss=0.02657368839201, train_auc=0.5293590318242941, train_acc=0.8111111111111111\n",
            "--- val_loss=0.03312952982054816, val_auc=0.5591133004926109, val_acc=0.7611111111111111\n",
            " -- Epoch 14/20\n"
          ]
        },
        {
          "output_type": "stream",
          "name": "stderr",
          "text": [
            "100%|██████████| 45/45 [00:29<00:00,  1.54it/s]\n"
          ]
        },
        {
          "output_type": "stream",
          "name": "stdout",
          "text": [
            "Epoch 13: train_loss=0.026056970055732463, train_auc=0.5633871208725535, train_acc=0.8125\n",
            "--- val_loss=0.03473339668578572, val_auc=0.5073891625615763, val_acc=0.8\n",
            " -- Epoch 15/20\n"
          ]
        },
        {
          "output_type": "stream",
          "name": "stderr",
          "text": [
            "100%|██████████| 45/45 [00:28<00:00,  1.59it/s]\n"
          ]
        },
        {
          "output_type": "stream",
          "name": "stdout",
          "text": [
            "Epoch 14: train_loss=0.025776700344350603, train_auc=0.5614821455251756, train_acc=0.8138888888888889\n",
            "--- val_loss=0.034695809707045555, val_auc=0.6330049261083744, val_acc=0.8277777777777777\n",
            " -- Epoch 16/20\n"
          ]
        },
        {
          "output_type": "stream",
          "name": "stderr",
          "text": [
            "100%|██████████| 45/45 [00:29<00:00,  1.53it/s]\n"
          ]
        },
        {
          "output_type": "stream",
          "name": "stdout",
          "text": [
            "Epoch 15: train_loss=0.025638729851278994, train_auc=0.5813163006125803, train_acc=0.8236111111111111\n",
            "--- val_loss=0.033661746813191305, val_auc=0.5763546798029557, val_acc=0.7888888888888889\n",
            " -- Epoch 17/20\n"
          ]
        },
        {
          "output_type": "stream",
          "name": "stderr",
          "text": [
            "100%|██████████| 45/45 [00:29<00:00,  1.53it/s]\n"
          ]
        },
        {
          "output_type": "stream",
          "name": "stdout",
          "text": [
            "Epoch 16: train_loss=0.023920955943564574, train_auc=0.6271851187808158, train_acc=0.8486111111111111\n",
            "--- val_loss=0.04687692291206784, val_auc=0.706896551724138, val_acc=0.7722222222222223\n",
            " -- Epoch 18/20\n"
          ]
        },
        {
          "output_type": "stream",
          "name": "stderr",
          "text": [
            "100%|██████████| 45/45 [00:29<00:00,  1.55it/s]\n"
          ]
        },
        {
          "output_type": "stream",
          "name": "stdout",
          "text": [
            "Epoch 17: train_loss=0.025198970817857318, train_auc=0.6123935454952937, train_acc=0.8291666666666667\n",
            "--- val_loss=0.0341640279110935, val_auc=0.587192118226601, val_acc=0.7888888888888889\n",
            " -- Epoch 19/20\n"
          ]
        },
        {
          "output_type": "stream",
          "name": "stderr",
          "text": [
            "100%|██████████| 45/45 [00:29<00:00,  1.50it/s]\n"
          ]
        },
        {
          "output_type": "stream",
          "name": "stdout",
          "text": [
            "Epoch 18: train_loss=0.02339925006445911, train_auc=0.624981323771104, train_acc=0.8361111111111111\n",
            "--- val_loss=0.034471558034420015, val_auc=0.5403940886699506, val_acc=0.7833333333333333\n",
            " -- Epoch 20/20\n"
          ]
        },
        {
          "output_type": "stream",
          "name": "stderr",
          "text": [
            "100%|██████████| 45/45 [00:29<00:00,  1.55it/s]\n"
          ]
        },
        {
          "output_type": "stream",
          "name": "stdout",
          "text": [
            "Epoch 19: train_loss=0.024987970147695805, train_auc=0.5808307186612879, train_acc=0.8138888888888889\n",
            "--- val_loss=0.0524939573990802, val_auc=0.5586206896551724, val_acc=0.7777777777777778\n",
            "test_auc=0.5855482456140351, test_acc=0.7862796833773087\n"
          ]
        }
      ],
      "source": [
        "from tqdm import tqdm\n",
        "import numpy as np\n",
        "import torch.nn as nn\n",
        "from sklearn.metrics import roc_auc_score, accuracy_score\n",
        "\n",
        "max_epoch = 20\n",
        "use_cuda = torch.cuda.is_available()\n",
        "if use_cuda:\n",
        "    model = model.cuda()\n",
        "\n",
        "criterion = nn.BCEWithLogitsLoss()# -- write your codes here\n",
        "optimizer = torch.optim.Adam(model.parameters(), lr=0.001)# -- write your codes here\n",
        "\n",
        "best_val_loss = float('inf')\n",
        "best_val_auc = 0\n",
        "best_model = None\n",
        "train_loss_record, train_acc_record, train_auc_record = [],[],[]\n",
        "val_loss_record, val_acc_record, val_auc_record = [],[],[]\n",
        "for epoch in range(max_epoch):\n",
        "    print(\" -- Epoch {}/{}\".format(epoch + 1, max_epoch))\n",
        "\n",
        "    ### training the model\n",
        "    model.train()\n",
        "    train_loss = 0\n",
        "    y_true, y_pred = [], []\n",
        "    for data in tqdm(loader_train):\n",
        "        # -- write your codes here\n",
        "        inputs, labels = data\n",
        "        if use_cuda:\n",
        "          inputs, labels = inputs.cuda(), labels.cuda()\n",
        "\n",
        "        optimizer.zero_grad()\n",
        "        outputs = model(inputs)\n",
        "        # print(labels.dtype)\n",
        "        loss = criterion(outputs.view(-1), labels.float())\n",
        "        train_loss += loss.item()\n",
        "        if use_cuda:\n",
        "          y_pred.extend(torch.round(torch.sigmoid(outputs.view(-1))).cpu().detach().numpy())\n",
        "          y_true.extend(labels.cpu().numpy())\n",
        "        else:\n",
        "          y_pred.extend(torch.round(torch.sigmoid(outputs.view(-1))).detach().numpy())\n",
        "          y_true.extend(labels.numpy())\n",
        "        loss.backward()\n",
        "        optimizer.step()\n",
        "\n",
        "    ### record the training loss and metrics\n",
        "    # -- write your codes here\n",
        "    train_loss /= len(loader_train.dataset)\n",
        "    train_loss_record.append(train_loss)\n",
        "    auc = roc_auc_score(y_true, y_pred)\n",
        "    acc = accuracy_score(y_true, y_pred)\n",
        "    train_acc_record.append(acc)\n",
        "    train_auc_record.append(auc)\n",
        "    print(f\"Epoch {epoch}: train_loss={train_loss}, train_auc={auc}, train_acc={acc}\")\n",
        "\n",
        "    ### evaluate on validation set\n",
        "    model.eval()\n",
        "    val_loss = 0\n",
        "    y_true, y_pred = [], []\n",
        "    for data in loader_val:\n",
        "        # -- write your codes here\n",
        "        inputs, labels = data\n",
        "        if use_cuda:\n",
        "          inputs, labels = inputs.cuda(), labels.cuda()\n",
        "        with torch.no_grad():\n",
        "          outputs = model(inputs)\n",
        "          loss = criterion(outputs.view(-1), labels.float())\n",
        "          val_loss += loss.item()\n",
        "          if use_cuda:\n",
        "            y_pred.extend(torch.round(torch.sigmoid(outputs.view(-1))).cpu().detach().numpy())\n",
        "            y_true.extend(labels.cpu().numpy())\n",
        "          else:\n",
        "            y_pred.extend(torch.round(torch.sigmoid(outputs.view(-1))).detach().numpy())\n",
        "            y_true.extend(labels.numpy())\n",
        "\n",
        "    ### record the validation loss and metrics, save the best checkpoint\n",
        "    # -- write your codes here\n",
        "    val_loss /= len(loader_val.dataset)\n",
        "    val_loss_record.append(val_loss)\n",
        "    auc = roc_auc_score(y_true, y_pred)\n",
        "    acc = accuracy_score(y_true, y_pred)\n",
        "    val_acc_record.append(acc)\n",
        "    val_auc_record.append(auc)\n",
        "    print(f\"--- val_loss={val_loss}, val_auc={auc}, val_acc={acc}\")\n",
        "    # if val_loss > best_val_loss:\n",
        "    #   best_val_loss = val_loss\n",
        "    if best_val_auc < auc:\n",
        "      best_val_auc = auc\n",
        "      best_model = model\n",
        "\n",
        "\n",
        "### evaluate on test set\n",
        "model.eval()\n",
        "y_true, y_pred = [], []\n",
        "for data in loader_test:\n",
        "  # -- write your codes here\n",
        "  inputs, labels = data\n",
        "  if use_cuda:\n",
        "    inputs, labels = inputs.cuda(), labels.cuda()\n",
        "  with torch.no_grad():\n",
        "    outputs = best_model(inputs)\n",
        "    if use_cuda:\n",
        "      y_pred.extend(torch.round(torch.sigmoid(outputs.view(-1))).cpu().detach().numpy())\n",
        "      y_true.extend(labels.cpu().numpy())\n",
        "    else:\n",
        "      y_pred.extend(torch.round(torch.sigmoid(outputs.view(-1))).detach().numpy())\n",
        "      y_true.extend(labels.numpy())\n",
        "\n",
        "### compute and print the metrics on test set\n",
        "# -- write your codes here\n",
        "auc = roc_auc_score(y_true, y_pred)\n",
        "acc = accuracy_score(y_true, y_pred)\n",
        "print(f\"test_auc={auc}, test_acc={acc}\")"
      ]
    },
    {
      "cell_type": "code",
      "execution_count": null,
      "metadata": {
        "colab": {
          "base_uri": "https://localhost:8080/",
          "height": 927
        },
        "id": "oRiwcbu7oWx-",
        "outputId": "39114216-b5db-4920-c0b5-110f29e6e96f"
      },
      "outputs": [
        {
          "output_type": "display_data",
          "data": {
            "text/plain": [
              "<Figure size 640x480 with 1 Axes>"
            ],
            "image/png": "[encoded data removed]"
          },
          "metadata": {}
        },
        {
          "output_type": "display_data",
          "data": {
            "text/plain": [
              "<Figure size 640x480 with 1 Axes>"
            ],
            "image/png": "[encoded data removed]"
          },
          "metadata": {}
        }
      ],
      "source": [
        "### plot your training and test curves\n",
        "\n",
        "import matplotlib.pyplot as plt\n",
        "\n",
        "epochs = range(1, len(train_loss_record) + 1)\n",
        "# loss\n",
        "plt.figure()\n",
        "plt.plot(epochs, train_loss_record, label='Train loss')\n",
        "plt.plot(epochs, val_loss_record, label='Val loss')\n",
        "plt.title(\"Training and validation loss\")\n",
        "plt.xlabel(\"Epochs\")\n",
        "plt.ylabel(\"Loss\")\n",
        "plt.legend()\n",
        "plt.show()\n",
        "\n",
        "# accuracy\n",
        "plt.figure()\n",
        "plt.plot(epochs, train_acc_record, label='Train acc')\n",
        "plt.plot(epochs, val_acc_record, label='Val acc')\n",
        "plt.title(\"Training and validation accuracy\")\n",
        "plt.xlabel(\"Epochs\")\n",
        "plt.ylabel(\"Accuracy\")\n",
        "plt.legend()\n",
        "plt.show()\n"
      ]
    },
    {
      "cell_type": "code",
      "execution_count": null,
      "metadata": {
        "id": "eqYaa5iUh03b"
      },
      "outputs": [],
      "source": [
        "# To solve the imbalance problem, we can oversample the minority class.\n",
        "from imblearn.over_sampling import RandomOverSampler\n",
        "import os\n",
        "\n",
        "# only need to sample the training data\n",
        "ros = RandomOverSampler(random_state=42)\n",
        "X_train_resampled, y_train_resampled = ros.fit_resample(loader_train.dataset.imgs, loader_train.dataset.targets)\n",
        "\n",
        "new_root_train = \"new_train\"\n",
        "os.makedirs(new_root_train, exist_ok=True)\n",
        "# copy files\n",
        "for i,x in enumerate(X_train_resampled):\n",
        "    src = x[0]\n",
        "    classname = src.split(\"/\")[1]\n",
        "    filename = f\"{i}.jpg\"\n",
        "    dest = os.path.join(new_root_train, classname, filename) #target path\n",
        "    os.makedirs(os.path.dirname(dest), exist_ok=True) #make class folder\n",
        "    # move files\n",
        "    !cp $src $dest"
      ]
    },
    {
      "cell_type": "code",
      "execution_count": null,
      "metadata": {
        "colab": {
          "base_uri": "https://localhost:8080/"
        },
        "id": "d3gS3k-Po23c",
        "outputId": "2fa8596b-47dc-4ea3-f80d-c183af701470"
      },
      "outputs": [
        {
          "output_type": "stream",
          "name": "stdout",
          "text": [
            " -- Epoch 1/20\n"
          ]
        },
        {
          "output_type": "stream",
          "name": "stderr",
          "text": [
            "100%|██████████| 73/73 [00:36<00:00,  1.98it/s]\n"
          ]
        },
        {
          "output_type": "stream",
          "name": "stdout",
          "text": [
            "Epoch 0: train_loss=0.0501891756078222, train_auc=0.5472508591065293, train_acc=0.5472508591065293\n",
            "--- val_loss=0.04172348313861423, val_auc=0.5142857142857143, val_acc=0.6888888888888889\n",
            " -- Epoch 2/20\n"
          ]
        },
        {
          "output_type": "stream",
          "name": "stderr",
          "text": [
            "100%|██████████| 73/73 [00:38<00:00,  1.92it/s]\n"
          ]
        },
        {
          "output_type": "stream",
          "name": "stdout",
          "text": [
            "Epoch 1: train_loss=0.045738506409310806, train_auc=0.5378006872852232, train_acc=0.5378006872852233\n",
            "--- val_loss=0.048471890224350826, val_auc=0.529064039408867, val_acc=0.5555555555555556\n",
            " -- Epoch 3/20\n"
          ]
        },
        {
          "output_type": "stream",
          "name": "stderr",
          "text": [
            "100%|██████████| 73/73 [00:37<00:00,  1.92it/s]\n"
          ]
        },
        {
          "output_type": "stream",
          "name": "stdout",
          "text": [
            "Epoch 2: train_loss=0.046077948306843995, train_auc=0.5463917525773195, train_acc=0.5463917525773195\n",
            "--- val_loss=0.1649327607618438, val_auc=0.5369458128078818, val_acc=0.28888888888888886\n",
            " -- Epoch 4/20\n"
          ]
        },
        {
          "output_type": "stream",
          "name": "stderr",
          "text": [
            "100%|██████████| 73/73 [00:37<00:00,  1.94it/s]\n"
          ]
        },
        {
          "output_type": "stream",
          "name": "stdout",
          "text": [
            "Epoch 3: train_loss=0.044730666884032315, train_auc=0.5609965635738831, train_acc=0.5609965635738832\n",
            "--- val_loss=0.04420774396922853, val_auc=0.4763546798029557, val_acc=0.6277777777777778\n",
            " -- Epoch 5/20\n"
          ]
        },
        {
          "output_type": "stream",
          "name": "stderr",
          "text": [
            "100%|██████████| 73/73 [00:37<00:00,  1.96it/s]\n"
          ]
        },
        {
          "output_type": "stream",
          "name": "stdout",
          "text": [
            "Epoch 4: train_loss=0.04377965869772475, train_auc=0.5412371134020618, train_acc=0.5412371134020618\n",
            "--- val_loss=0.042906937334272595, val_auc=0.4862068965517241, val_acc=0.6611111111111111\n",
            " -- Epoch 6/20\n"
          ]
        },
        {
          "output_type": "stream",
          "name": "stderr",
          "text": [
            "100%|██████████| 73/73 [00:36<00:00,  2.01it/s]\n"
          ]
        },
        {
          "output_type": "stream",
          "name": "stdout",
          "text": [
            "Epoch 5: train_loss=0.04413985878331555, train_auc=0.5532646048109966, train_acc=0.5532646048109966\n",
            "--- val_loss=0.04610694646835327, val_auc=0.5137931034482758, val_acc=0.5833333333333334\n",
            " -- Epoch 7/20\n"
          ]
        },
        {
          "output_type": "stream",
          "name": "stderr",
          "text": [
            "100%|██████████| 73/73 [00:36<00:00,  1.99it/s]\n"
          ]
        },
        {
          "output_type": "stream",
          "name": "stdout",
          "text": [
            "Epoch 6: train_loss=0.04292468608859478, train_auc=0.5893470790378007, train_acc=0.5893470790378007\n",
            "--- val_loss=0.051180735892719695, val_auc=0.5901477832512316, val_acc=0.4444444444444444\n",
            " -- Epoch 8/20\n"
          ]
        },
        {
          "output_type": "stream",
          "name": "stderr",
          "text": [
            "100%|██████████| 73/73 [00:37<00:00,  1.93it/s]\n"
          ]
        },
        {
          "output_type": "stream",
          "name": "stdout",
          "text": [
            "Epoch 7: train_loss=0.042597362547600805, train_auc=0.5867697594501718, train_acc=0.5867697594501718\n",
            "--- val_loss=0.04466232938898934, val_auc=0.5241379310344827, val_acc=0.7222222222222222\n",
            " -- Epoch 9/20\n"
          ]
        },
        {
          "output_type": "stream",
          "name": "stderr",
          "text": [
            "100%|██████████| 73/73 [00:37<00:00,  1.93it/s]\n"
          ]
        },
        {
          "output_type": "stream",
          "name": "stdout",
          "text": [
            "Epoch 8: train_loss=0.042942822850037275, train_auc=0.5867697594501718, train_acc=0.5867697594501718\n",
            "--- val_loss=0.04286819481187397, val_auc=0.5024630541871922, val_acc=0.6\n",
            " -- Epoch 10/20\n"
          ]
        },
        {
          "output_type": "stream",
          "name": "stderr",
          "text": [
            "100%|██████████| 73/73 [00:37<00:00,  1.96it/s]\n"
          ]
        },
        {
          "output_type": "stream",
          "name": "stdout",
          "text": [
            "Epoch 9: train_loss=0.04242439839438474, train_auc=0.5970790378006873, train_acc=0.5970790378006873\n",
            "--- val_loss=0.05043294628461202, val_auc=0.5448275862068965, val_acc=0.5111111111111111\n",
            " -- Epoch 11/20\n"
          ]
        },
        {
          "output_type": "stream",
          "name": "stderr",
          "text": [
            "100%|██████████| 73/73 [00:37<00:00,  1.93it/s]\n"
          ]
        },
        {
          "output_type": "stream",
          "name": "stdout",
          "text": [
            "Epoch 10: train_loss=0.04382329052666208, train_auc=0.5369415807560137, train_acc=0.5369415807560137\n",
            "--- val_loss=0.045353925228118895, val_auc=0.5403940886699506, val_acc=0.5388888888888889\n",
            " -- Epoch 12/20\n"
          ]
        },
        {
          "output_type": "stream",
          "name": "stderr",
          "text": [
            "100%|██████████| 73/73 [00:36<00:00,  1.99it/s]\n"
          ]
        },
        {
          "output_type": "stream",
          "name": "stdout",
          "text": [
            "Epoch 11: train_loss=0.042359811333856225, train_auc=0.5798969072164948, train_acc=0.5798969072164949\n",
            "--- val_loss=0.03903278493218952, val_auc=0.6394088669950739, val_acc=0.7333333333333333\n",
            " -- Epoch 13/20\n"
          ]
        },
        {
          "output_type": "stream",
          "name": "stderr",
          "text": [
            "100%|██████████| 73/73 [00:36<00:00,  1.97it/s]\n"
          ]
        },
        {
          "output_type": "stream",
          "name": "stdout",
          "text": [
            "Epoch 12: train_loss=0.04126438723806663, train_auc=0.6005154639175257, train_acc=0.6005154639175257\n",
            "--- val_loss=0.04367014335261451, val_auc=0.535960591133005, val_acc=0.5666666666666667\n",
            " -- Epoch 14/20\n"
          ]
        },
        {
          "output_type": "stream",
          "name": "stderr",
          "text": [
            "100%|██████████| 73/73 [00:37<00:00,  1.95it/s]\n"
          ]
        },
        {
          "output_type": "stream",
          "name": "stdout",
          "text": [
            "Epoch 13: train_loss=0.04215355678317473, train_auc=0.6108247422680413, train_acc=0.6108247422680413\n",
            "--- val_loss=0.043183218273851603, val_auc=0.5876847290640395, val_acc=0.65\n",
            " -- Epoch 15/20\n"
          ]
        },
        {
          "output_type": "stream",
          "name": "stderr",
          "text": [
            "100%|██████████| 73/73 [00:38<00:00,  1.92it/s]\n"
          ]
        },
        {
          "output_type": "stream",
          "name": "stdout",
          "text": [
            "Epoch 14: train_loss=0.04000711773883846, train_auc=0.6374570446735396, train_acc=0.6374570446735395\n",
            "--- val_loss=0.04714921911557515, val_auc=0.6009852216748768, val_acc=0.5666666666666667\n",
            " -- Epoch 16/20\n"
          ]
        },
        {
          "output_type": "stream",
          "name": "stderr",
          "text": [
            "100%|██████████| 73/73 [00:38<00:00,  1.91it/s]\n"
          ]
        },
        {
          "output_type": "stream",
          "name": "stdout",
          "text": [
            "Epoch 15: train_loss=0.04110361098014202, train_auc=0.6219931271477663, train_acc=0.6219931271477663\n",
            "--- val_loss=0.04891131569941839, val_auc=0.5827586206896552, val_acc=0.5722222222222222\n",
            " -- Epoch 17/20\n"
          ]
        },
        {
          "output_type": "stream",
          "name": "stderr",
          "text": [
            "100%|██████████| 73/73 [00:37<00:00,  1.92it/s]\n"
          ]
        },
        {
          "output_type": "stream",
          "name": "stdout",
          "text": [
            "Epoch 16: train_loss=0.04175736035677985, train_auc=0.6039518900343643, train_acc=0.6039518900343642\n",
            "--- val_loss=0.04146623313426971, val_auc=0.5157635467980296, val_acc=0.6388888888888888\n",
            " -- Epoch 18/20\n"
          ]
        },
        {
          "output_type": "stream",
          "name": "stderr",
          "text": [
            "100%|██████████| 73/73 [00:36<00:00,  1.99it/s]\n"
          ]
        },
        {
          "output_type": "stream",
          "name": "stdout",
          "text": [
            "Epoch 17: train_loss=0.041447890122321876, train_auc=0.6013745704467354, train_acc=0.6013745704467354\n",
            "--- val_loss=0.04317016253868739, val_auc=0.5733990147783252, val_acc=0.6444444444444445\n",
            " -- Epoch 19/20\n"
          ]
        },
        {
          "output_type": "stream",
          "name": "stderr",
          "text": [
            "100%|██████████| 73/73 [00:36<00:00,  1.98it/s]\n"
          ]
        },
        {
          "output_type": "stream",
          "name": "stdout",
          "text": [
            "Epoch 18: train_loss=0.04113711531936508, train_auc=0.6202749140893471, train_acc=0.6202749140893471\n",
            "--- val_loss=0.04302799718247519, val_auc=0.6118226600985222, val_acc=0.5666666666666667\n",
            " -- Epoch 20/20\n"
          ]
        },
        {
          "output_type": "stream",
          "name": "stderr",
          "text": [
            "100%|██████████| 73/73 [00:37<00:00,  1.93it/s]\n"
          ]
        },
        {
          "output_type": "stream",
          "name": "stdout",
          "text": [
            "Epoch 19: train_loss=0.04053560442121578, train_auc=0.6288659793814433, train_acc=0.6288659793814433\n",
            "--- val_loss=0.045404125253359476, val_auc=0.5285714285714286, val_acc=0.5722222222222222\n",
            "test_auc=0.6278289473684211, test_acc=0.5963060686015831\n"
          ]
        }
      ],
      "source": [
        "from tqdm import tqdm\n",
        "import numpy as np\n",
        "import torch.nn as nn\n",
        "from sklearn.metrics import roc_auc_score, accuracy_score\n",
        "\n",
        "# new dataloader\n",
        "train_dataset = ImageFolder(new_root_train, transform=train_transform)\n",
        "loader_train_resampled = torch.utils.data.DataLoader(\n",
        "    dataset=train_dataset,\n",
        "    batch_size=batch_size,\n",
        "    shuffle=True\n",
        "    )\n",
        "\n",
        "# the following are almost the same\n",
        "max_epoch = 20\n",
        "use_cuda = torch.cuda.is_available()\n",
        "if use_cuda:\n",
        "    model = model.cuda()\n",
        "\n",
        "criterion = nn.BCEWithLogitsLoss()\n",
        "optimizer = torch.optim.Adam(model.parameters(), lr=0.001)\n",
        "\n",
        "best_val_loss = float('inf')\n",
        "best_val_auc = 0\n",
        "best_model = None\n",
        "train_loss_record, train_acc_record, train_auc_record = [],[],[]\n",
        "val_loss_record, val_acc_record, val_auc_record = [],[],[]\n",
        "for epoch in range(max_epoch):\n",
        "    print(\" -- Epoch {}/{}\".format(epoch + 1, max_epoch))\n",
        "\n",
        "    ### training the model\n",
        "    model.train()\n",
        "    train_loss = 0\n",
        "    y_true, y_pred = [], []\n",
        "    for data in tqdm(loader_train_resampled): #train with the oversampled data\n",
        "        # -- write your codes here\n",
        "        inputs, labels = data\n",
        "        if use_cuda:\n",
        "          inputs, labels = inputs.cuda(), labels.cuda()\n",
        "\n",
        "        optimizer.zero_grad()\n",
        "        outputs = model(inputs)\n",
        "        # print(labels.dtype)\n",
        "        loss = criterion(outputs.view(-1), labels.float())\n",
        "        train_loss += loss.item()\n",
        "        if use_cuda:\n",
        "          y_pred.extend(torch.round(torch.sigmoid(outputs.view(-1))).cpu().detach().numpy())\n",
        "          y_true.extend(labels.cpu().numpy())\n",
        "        else:\n",
        "          y_pred.extend(torch.round(torch.sigmoid(outputs.view(-1))).detach().numpy())\n",
        "          y_true.extend(labels.numpy())\n",
        "        loss.backward()\n",
        "        optimizer.step()\n",
        "\n",
        "    ### record the training loss and metrics\n",
        "    # -- write your codes here\n",
        "    train_loss /= len(loader_train_resampled.dataset)\n",
        "    train_loss_record.append(train_loss)\n",
        "    auc = roc_auc_score(y_true, y_pred)\n",
        "    acc = accuracy_score(y_true, y_pred)\n",
        "    train_acc_record.append(acc)\n",
        "    train_auc_record.append(auc)\n",
        "    print(f\"Epoch {epoch}: train_loss={train_loss}, train_auc={auc}, train_acc={acc}\")\n",
        "\n",
        "    ### evaluate on validation set\n",
        "    model.eval()\n",
        "    val_loss = 0\n",
        "    y_true, y_pred = [], []\n",
        "    for data in loader_val:\n",
        "        # -- write your codes here\n",
        "        inputs, labels = data\n",
        "        if use_cuda:\n",
        "          inputs, labels = inputs.cuda(), labels.cuda()\n",
        "        with torch.no_grad():\n",
        "          outputs = model(inputs)\n",
        "          loss = criterion(outputs.view(-1), labels.float())\n",
        "          val_loss += loss.item()\n",
        "          if use_cuda:\n",
        "            y_pred.extend(torch.round(torch.sigmoid(outputs.view(-1))).cpu().detach().numpy())\n",
        "            y_true.extend(labels.cpu().numpy())\n",
        "          else:\n",
        "            y_pred.extend(torch.round(torch.sigmoid(outputs.view(-1))).detach().numpy())\n",
        "            y_true.extend(labels.numpy())\n",
        "\n",
        "    ### record the validation loss and metrics, save the best checkpoint\n",
        "    # -- write your codes here\n",
        "    val_loss /= len(loader_val.dataset)\n",
        "    val_loss_record.append(val_loss)\n",
        "    auc = roc_auc_score(y_true, y_pred)\n",
        "    acc = accuracy_score(y_true, y_pred)\n",
        "    val_acc_record.append(acc)\n",
        "    val_auc_record.append(auc)\n",
        "    print(f\"--- val_loss={val_loss}, val_auc={auc}, val_acc={acc}\")\n",
        "    # if val_loss > best_val_loss:\n",
        "    #   best_val_loss = val_loss\n",
        "    if best_val_auc < auc:\n",
        "      best_val_auc = auc\n",
        "      best_model = model\n",
        "\n",
        "\n",
        "### evaluate on test set\n",
        "model.eval()\n",
        "y_true, y_pred = [], []\n",
        "for data in loader_test:\n",
        "  # -- write your codes here\n",
        "  inputs, labels = data\n",
        "  if use_cuda:\n",
        "    inputs, labels = inputs.cuda(), labels.cuda()\n",
        "  with torch.no_grad():\n",
        "    outputs = best_model(inputs)\n",
        "    if use_cuda:\n",
        "      y_pred.extend(torch.round(torch.sigmoid(outputs.view(-1))).cpu().detach().numpy())\n",
        "      y_true.extend(labels.cpu().numpy())\n",
        "    else:\n",
        "      y_pred.extend(torch.round(torch.sigmoid(outputs.view(-1))).detach().numpy())\n",
        "      y_true.extend(labels.numpy())\n",
        "\n",
        "### compute and print the metrics on test set\n",
        "# -- write your codes here\n",
        "auc = roc_auc_score(y_true, y_pred)\n",
        "acc = accuracy_score(y_true, y_pred)\n",
        "print(f\"test_auc={auc}, test_acc={acc}\")\n"
      ]
    },
    {
      "cell_type": "markdown",
      "metadata": {
        "id": "9NXVx6WtF2cP"
      },
      "source": [
        "# Contrastive Learning"
      ]
    },
    {
      "cell_type": "code",
      "execution_count": null,
      "metadata": {
        "colab": {
          "base_uri": "https://localhost:8080/"
        },
        "id": "U2_dhggKF3pA",
        "outputId": "f68c04f1-86c7-4b5c-fd90-142db2b5e7a2"
      },
      "outputs": [
        {
          "output_type": "stream",
          "name": "stderr",
          "text": [
            "100%|██████████| 45/45 [01:02<00:00,  1.38s/it]\n"
          ]
        },
        {
          "output_type": "stream",
          "name": "stdout",
          "text": [
            "Epoch: 1, Loss: 0.21468003789583842\n"
          ]
        },
        {
          "output_type": "stream",
          "name": "stderr",
          "text": [
            "100%|██████████| 45/45 [00:58<00:00,  1.30s/it]\n"
          ]
        },
        {
          "output_type": "stream",
          "name": "stdout",
          "text": [
            "Epoch: 2, Loss: 0.21456740299860635\n"
          ]
        },
        {
          "output_type": "stream",
          "name": "stderr",
          "text": [
            "100%|██████████| 45/45 [00:58<00:00,  1.30s/it]\n"
          ]
        },
        {
          "output_type": "stream",
          "name": "stdout",
          "text": [
            "Epoch: 3, Loss: 0.2142985029353036\n"
          ]
        },
        {
          "output_type": "stream",
          "name": "stderr",
          "text": [
            "100%|██████████| 45/45 [00:58<00:00,  1.29s/it]\n"
          ]
        },
        {
          "output_type": "stream",
          "name": "stdout",
          "text": [
            "Epoch: 4, Loss: 0.21434034605820973\n"
          ]
        },
        {
          "output_type": "stream",
          "name": "stderr",
          "text": [
            "100%|██████████| 45/45 [00:58<00:00,  1.30s/it]\n"
          ]
        },
        {
          "output_type": "stream",
          "name": "stdout",
          "text": [
            "Epoch: 5, Loss: 0.21436239414744906\n"
          ]
        },
        {
          "output_type": "stream",
          "name": "stderr",
          "text": [
            "100%|██████████| 45/45 [00:58<00:00,  1.30s/it]\n"
          ]
        },
        {
          "output_type": "stream",
          "name": "stdout",
          "text": [
            "Epoch: 6, Loss: 0.21432061758306292\n"
          ]
        },
        {
          "output_type": "stream",
          "name": "stderr",
          "text": [
            "100%|██████████| 45/45 [00:58<00:00,  1.30s/it]\n"
          ]
        },
        {
          "output_type": "stream",
          "name": "stdout",
          "text": [
            "Epoch: 7, Loss: 0.21465710136625502\n"
          ]
        },
        {
          "output_type": "stream",
          "name": "stderr",
          "text": [
            "100%|██████████| 45/45 [00:58<00:00,  1.31s/it]\n"
          ]
        },
        {
          "output_type": "stream",
          "name": "stdout",
          "text": [
            "Epoch: 8, Loss: 0.21422468821207682\n"
          ]
        },
        {
          "output_type": "stream",
          "name": "stderr",
          "text": [
            "100%|██████████| 45/45 [00:57<00:00,  1.29s/it]\n"
          ]
        },
        {
          "output_type": "stream",
          "name": "stdout",
          "text": [
            "Epoch: 9, Loss: 0.2145176847775777\n"
          ]
        },
        {
          "output_type": "stream",
          "name": "stderr",
          "text": [
            "100%|██████████| 45/45 [00:57<00:00,  1.29s/it]\n"
          ]
        },
        {
          "output_type": "stream",
          "name": "stdout",
          "text": [
            "Epoch: 10, Loss: 0.21461598575115204\n"
          ]
        },
        {
          "output_type": "stream",
          "name": "stderr",
          "text": [
            "100%|██████████| 45/45 [00:57<00:00,  1.29s/it]\n"
          ]
        },
        {
          "output_type": "stream",
          "name": "stdout",
          "text": [
            "Epoch: 11, Loss: 0.21405464708805083\n"
          ]
        },
        {
          "output_type": "stream",
          "name": "stderr",
          "text": [
            "100%|██████████| 45/45 [00:58<00:00,  1.30s/it]\n"
          ]
        },
        {
          "output_type": "stream",
          "name": "stdout",
          "text": [
            "Epoch: 12, Loss: 0.21475197275479635\n"
          ]
        },
        {
          "output_type": "stream",
          "name": "stderr",
          "text": [
            "100%|██████████| 45/45 [00:58<00:00,  1.30s/it]\n"
          ]
        },
        {
          "output_type": "stream",
          "name": "stdout",
          "text": [
            "Epoch: 13, Loss: 0.21428579654958513\n"
          ]
        },
        {
          "output_type": "stream",
          "name": "stderr",
          "text": [
            "100%|██████████| 45/45 [00:58<00:00,  1.30s/it]\n"
          ]
        },
        {
          "output_type": "stream",
          "name": "stdout",
          "text": [
            "Epoch: 14, Loss: 0.21405693259504105\n"
          ]
        },
        {
          "output_type": "stream",
          "name": "stderr",
          "text": [
            "100%|██████████| 45/45 [00:58<00:00,  1.30s/it]\n"
          ]
        },
        {
          "output_type": "stream",
          "name": "stdout",
          "text": [
            "Epoch: 15, Loss: 0.2141194330321418\n"
          ]
        },
        {
          "output_type": "stream",
          "name": "stderr",
          "text": [
            "100%|██████████| 45/45 [00:58<00:00,  1.29s/it]\n"
          ]
        },
        {
          "output_type": "stream",
          "name": "stdout",
          "text": [
            "Epoch: 16, Loss: 0.21437331868542564\n"
          ]
        },
        {
          "output_type": "stream",
          "name": "stderr",
          "text": [
            "100%|██████████| 45/45 [00:58<00:00,  1.29s/it]\n"
          ]
        },
        {
          "output_type": "stream",
          "name": "stdout",
          "text": [
            "Epoch: 17, Loss: 0.2143738200267156\n"
          ]
        },
        {
          "output_type": "stream",
          "name": "stderr",
          "text": [
            "100%|██████████| 45/45 [00:59<00:00,  1.31s/it]\n"
          ]
        },
        {
          "output_type": "stream",
          "name": "stdout",
          "text": [
            "Epoch: 18, Loss: 0.2145037137799793\n"
          ]
        },
        {
          "output_type": "stream",
          "name": "stderr",
          "text": [
            "100%|██████████| 45/45 [00:58<00:00,  1.29s/it]\n"
          ]
        },
        {
          "output_type": "stream",
          "name": "stdout",
          "text": [
            "Epoch: 19, Loss: 0.21439591811762915\n"
          ]
        },
        {
          "output_type": "stream",
          "name": "stderr",
          "text": [
            "100%|██████████| 45/45 [00:57<00:00,  1.28s/it]\n"
          ]
        },
        {
          "output_type": "stream",
          "name": "stdout",
          "text": [
            "Epoch: 20, Loss: 0.21386356221305\n"
          ]
        },
        {
          "output_type": "stream",
          "name": "stderr",
          "text": [
            "100%|██████████| 45/45 [00:57<00:00,  1.29s/it]\n"
          ]
        },
        {
          "output_type": "stream",
          "name": "stdout",
          "text": [
            "Epoch: 21, Loss: 0.21426462431748708\n"
          ]
        },
        {
          "output_type": "stream",
          "name": "stderr",
          "text": [
            "100%|██████████| 45/45 [00:57<00:00,  1.28s/it]\n"
          ]
        },
        {
          "output_type": "stream",
          "name": "stdout",
          "text": [
            "Epoch: 22, Loss: 0.21430477665530312\n"
          ]
        },
        {
          "output_type": "stream",
          "name": "stderr",
          "text": [
            "100%|██████████| 45/45 [00:58<00:00,  1.30s/it]\n"
          ]
        },
        {
          "output_type": "stream",
          "name": "stdout",
          "text": [
            "Epoch: 23, Loss: 0.2143259541855918\n"
          ]
        },
        {
          "output_type": "stream",
          "name": "stderr",
          "text": [
            "100%|██████████| 45/45 [00:57<00:00,  1.27s/it]\n"
          ]
        },
        {
          "output_type": "stream",
          "name": "stdout",
          "text": [
            "Epoch: 24, Loss: 0.21444543898105622\n"
          ]
        },
        {
          "output_type": "stream",
          "name": "stderr",
          "text": [
            "100%|██████████| 45/45 [00:56<00:00,  1.27s/it]\n"
          ]
        },
        {
          "output_type": "stream",
          "name": "stdout",
          "text": [
            "Epoch: 25, Loss: 0.2146455983320872\n"
          ]
        },
        {
          "output_type": "stream",
          "name": "stderr",
          "text": [
            "100%|██████████| 45/45 [00:56<00:00,  1.27s/it]\n"
          ]
        },
        {
          "output_type": "stream",
          "name": "stdout",
          "text": [
            "Epoch: 26, Loss: 0.2143938034772873\n"
          ]
        },
        {
          "output_type": "stream",
          "name": "stderr",
          "text": [
            "100%|██████████| 45/45 [00:56<00:00,  1.26s/it]\n"
          ]
        },
        {
          "output_type": "stream",
          "name": "stdout",
          "text": [
            "Epoch: 27, Loss: 0.2141686803764767\n"
          ]
        },
        {
          "output_type": "stream",
          "name": "stderr",
          "text": [
            "100%|██████████| 45/45 [00:56<00:00,  1.26s/it]\n"
          ]
        },
        {
          "output_type": "stream",
          "name": "stdout",
          "text": [
            "Epoch: 28, Loss: 0.21441735393471187\n"
          ]
        },
        {
          "output_type": "stream",
          "name": "stderr",
          "text": [
            "100%|██████████| 45/45 [00:56<00:00,  1.27s/it]\n"
          ]
        },
        {
          "output_type": "stream",
          "name": "stdout",
          "text": [
            "Epoch: 29, Loss: 0.21438528531127507\n"
          ]
        },
        {
          "output_type": "stream",
          "name": "stderr",
          "text": [
            "100%|██████████| 45/45 [00:58<00:00,  1.30s/it]\n"
          ]
        },
        {
          "output_type": "stream",
          "name": "stdout",
          "text": [
            "Epoch: 30, Loss: 0.21436272660891215\n"
          ]
        }
      ],
      "source": [
        "import torch\n",
        "from torch import nn, optim\n",
        "from torchvision import transforms, datasets\n",
        "from torch.utils.data import DataLoader\n",
        "import numpy as np\n",
        "\n",
        "from torchvision.models import resnet50\n",
        "\n",
        "# Define a simple neural network as an encoder.\n",
        "class SimpleEncoder(nn.Module):\n",
        "    def __init__(self):\n",
        "        super(SimpleEncoder, self).__init__()\n",
        "        Resnet50 = ResNet(Bottleneck, [3, 4, 6, 3], dropout=None)\n",
        "        pre_trained = resnet50(weights = \"IMAGENET1K_V2\").state_dict()\n",
        "        new_weights = {k: pre_trained[k] for k in Resnet50.state_dict()}\n",
        "        Resnet50.load_state_dict(new_weights)\n",
        "        self.resnet = Resnet50\n",
        "        # Freeze the weight of the pre-training model\n",
        "        for param in self.resnet.parameters():\n",
        "            param.requires_grad = False\n",
        "        # Modify the last layer to output features.\n",
        "        self.resnet.fc = nn.Identity()\n",
        "\n",
        "    def forward(self, x):\n",
        "        return self.resnet(x)\n",
        "\n",
        "# Define projection head\n",
        "class ProjectionHead(nn.Module):\n",
        "    def __init__(self, input_dim, output_dim):\n",
        "        super(ProjectionHead, self).__init__()\n",
        "        self.projector = nn.Sequential(\n",
        "            nn.Linear(input_dim, output_dim, bias=False),\n",
        "            nn.ReLU(),\n",
        "            nn.Linear(output_dim, output_dim, bias=False)\n",
        "        )\n",
        "\n",
        "    def forward(self, z):\n",
        "        return self.projector(z)\n",
        "\n",
        "# Define the contrast loss function\n",
        "class ContrastiveLoss(nn.Module):\n",
        "    def __init__(self, temperature=0.5):\n",
        "        super(ContrastiveLoss, self).__init__()\n",
        "        self.temperature = temperature\n",
        "\n",
        "    def forward(self, output1, output2, labels=None):\n",
        "        # output1 and output2 are the feature representations of the same picture after two enhancements.\n",
        "        # label used to ensure a positive sample pair.\n",
        "        if labels is not None:\n",
        "            labels = labels[:, np.newaxis]\n",
        "        inf = torch.tensor(np.inf)\n",
        "        if torch.cuda.is_available():\n",
        "            inf = inf.cuda()\n",
        "\n",
        "        # Calculate the similarity between point pairs\n",
        "        dot_product = torch.div(torch.matmul(output1, output2.transpose(1, 0)), self.temperature)\n",
        "        # The diagonal part is the similarity between itself, which is set to infinity.\n",
        "        dot_product = torch.where(torch.eq(labels, labels.transpose(1, 0)), -inf, dot_product)\n",
        "\n",
        "        # Use softmax to get the probability of each positive sample pair.\n",
        "        sim = torch.exp(dot_product)\n",
        "        sim = sim / torch.sum(sim, dim=1, keepdim=True)\n",
        "\n",
        "        # Calculate the contrast loss\n",
        "        loss = - torch.sum(torch.log(sim), dim=1).mean()\n",
        "        return loss\n",
        "\n",
        "\n",
        "# Contrastive loss (NT-Xent)\n",
        "class NTXentLoss(nn.Module):\n",
        "    def __init__(self, temperature=0.5):\n",
        "        super(NTXentLoss, self).__init__()\n",
        "        self.temperature = temperature\n",
        "        self.criterion = nn.CrossEntropyLoss()\n",
        "\n",
        "    def forward(self, z_i, z_j):\n",
        "        N, Z = z_i.size()\n",
        "        z = torch.cat([z_i, z_j], dim=0)\n",
        "        sim = torch.mm(z, z.t()) / self.temperature\n",
        "\n",
        "        labels = torch.cat([torch.arange(N) for _ in range(2)], dim=0).to(z.device)\n",
        "        mask = torch.eye(2 * N, device=z.device).bool()\n",
        "        sim = sim.masked_fill(mask, float('-inf'))\n",
        "        targets = torch.cat([torch.arange(N) + N, torch.arange(N)], dim=0).to(z.device)\n",
        "\n",
        "        return self.criterion(sim, targets)\n",
        "\n",
        "\n",
        "device = torch.device(\"cuda\" if torch.cuda.is_available() else \"cpu\")\n",
        "\n",
        "# Instantiate data enhancement, encoder, projection head and loss function\n",
        "encoder = SimpleEncoder().to(device)\n",
        "projector = ProjectionHead(input_dim=2048, output_dim=128).to(device)  # Adjust according to the characteristic dimension of ResNet50\n",
        "#criterion = ContrastiveLoss()\n",
        "criterion = NTXentLoss()\n",
        "\n",
        "root_train, root_val, root_test = \"train/\", \"val/\", \"test/\"# -- write your codes here: the root path of training/validation/test set\n",
        "\n",
        "\n",
        "SimCLRDataAugmentation = transforms.Compose([\n",
        "            transforms.RandomResizedCrop(224),\n",
        "            transforms.RandomHorizontalFlip(),\n",
        "            transforms.ColorJitter(brightness=0.2, contrast=0.2),\n",
        "            transforms.ToTensor(),\n",
        "            transforms.Normalize(mean=[0.485, 0.456, 0.406], std=[0.229, 0.224, 0.225])\n",
        "])\n",
        "\n",
        "\n",
        "test_transform = transforms.Compose([\n",
        "    # -- write your codes here: data preprocessing\n",
        "    transforms.Resize(256),\n",
        "    transforms.CenterCrop(224),\n",
        "    transforms.ToTensor(),\n",
        "    transforms.Normalize(mean=[0.485, 0.456, 0.406], std=[0.229, 0.224, 0.225])\n",
        "])\n",
        "\n",
        "\n",
        "# Prepare data set\n",
        "train_dataset = datasets.ImageFolder(root_train, transform=SimCLRDataAugmentation)\n",
        "train_loader = DataLoader(train_dataset, batch_size=16, shuffle=True)\n",
        "\n",
        "# Define optimizer\n",
        "optimizer = optim.Adam(list(encoder.parameters()) + list(projector.parameters()), lr=2e-5)\n",
        "\n",
        "num_epochs = 30\n",
        "\n",
        "# Training model\n",
        "for epoch in range(num_epochs):\n",
        "    train_loss = 0\n",
        "    for (img1, _), (img2, _) in tqdm(zip(train_loader, train_loader), total=len(train_loader)):\n",
        "        # Enhanced each image twice with different data.\n",
        "        img1 = img1.to(device)\n",
        "        img2 = img2.to(device)\n",
        "\n",
        "        # Obtaining feature representation through encoder and projection head\n",
        "        z1 = encoder(img1)\n",
        "        z2 = encoder(img2)\n",
        "\n",
        "        # Get the feature representation after projection\n",
        "        z1 = projector(z1)\n",
        "        z2 = projector(z2)\n",
        "\n",
        "        # Calculate the contrast loss\n",
        "        loss = criterion(z1, z2)# labels=torch.arange(img1.size(0)).to(img1.device))\n",
        "\n",
        "        # Back Propagation and Optimization\n",
        "        optimizer.zero_grad()\n",
        "        loss.backward()\n",
        "        optimizer.step()\n",
        "\n",
        "        train_loss += loss.item()\n",
        "\n",
        "    train_loss /= len(train_loader.dataset)\n",
        "\n",
        "    print(f\"Epoch: {epoch+1}, Loss: {train_loss}\")\n",
        "\n",
        "# Save model\n",
        "torch.save(encoder.state_dict(), 'encoder.pth')\n",
        "torch.save(projector.state_dict(), 'projector.pth')\n",
        "\n",
        "\n"
      ]
    },
    {
      "cell_type": "markdown",
      "metadata": {
        "id": "UJORe5mtNLV7"
      },
      "source": [
        "## Test"
      ]
    },
    {
      "cell_type": "code",
      "source": [
        "import torch\n",
        "from torch import nn, optim\n",
        "from torchvision import datasets, transforms\n",
        "from torch.utils.data import DataLoader\n",
        "\n",
        "\n",
        "# 加载SimCLR预训练得到的权重，注意只需要加载特征提取器的权重\n",
        "pretrained_weights = torch.load('encoder.pth')\n",
        "# model.resnet.load_state_dict(pretrained_weights, strict=False)\n",
        "Resnet50 = ResNet(Bottleneck, [3, 4, 6, 3], dropout=None)\n",
        "Resnet50.load_state_dict(pretrained_weights, strict=False)\n",
        "model = ClassificationModel(Resnet50, 1)\n",
        "\n",
        "max_epoch = 20\n",
        "use_cuda = torch.cuda.is_available()\n",
        "if use_cuda:\n",
        "    model = model.cuda()\n",
        "\n",
        "criterion = nn.BCEWithLogitsLoss()\n",
        "optimizer = torch.optim.Adam(model.parameters(), lr=2e-5)\n",
        "\n",
        "best_val_loss = float('inf')\n",
        "best_val_auc = 0\n",
        "best_model = None\n",
        "train_loss_record, train_acc_record, train_auc_record = [],[],[]\n",
        "val_loss_record, val_acc_record, val_auc_record = [],[],[]\n",
        "for epoch in range(max_epoch):\n",
        "    print(\" -- Epoch {}/{}\".format(epoch + 1, max_epoch))\n",
        "\n",
        "    ### training the model\n",
        "    model.train()\n",
        "    train_loss = 0\n",
        "    y_true, y_pred = [], []\n",
        "    for data in tqdm(loader_train_resampled): #train with the oversampled data\n",
        "        # -- write your codes here\n",
        "        inputs, labels = data\n",
        "        if use_cuda:\n",
        "          inputs, labels = inputs.cuda(), labels.cuda()\n",
        "\n",
        "        optimizer.zero_grad()\n",
        "        outputs = model(inputs)\n",
        "        # print(labels.dtype)\n",
        "        loss = criterion(outputs.view(-1), labels.float())\n",
        "        train_loss += loss.item()\n",
        "        if use_cuda:\n",
        "          y_pred.extend(torch.round(torch.sigmoid(outputs.view(-1))).cpu().detach().numpy())\n",
        "          y_true.extend(labels.cpu().numpy())\n",
        "        else:\n",
        "          y_pred.extend(torch.round(torch.sigmoid(outputs.view(-1))).detach().numpy())\n",
        "          y_true.extend(labels.numpy())\n",
        "        loss.backward()\n",
        "        optimizer.step()\n",
        "\n",
        "    ### record the training loss and metrics\n",
        "    # -- write your codes here\n",
        "    train_loss /= len(loader_train_resampled.dataset)\n",
        "    train_loss_record.append(train_loss)\n",
        "    auc = roc_auc_score(y_true, y_pred)\n",
        "    acc = accuracy_score(y_true, y_pred)\n",
        "    train_acc_record.append(acc)\n",
        "    train_auc_record.append(auc)\n",
        "    print(f\"Epoch {epoch}: train_loss={train_loss}, train_auc={auc}, train_acc={acc}\")\n",
        "\n",
        "    ### evaluate on validation set\n",
        "    model.eval()\n",
        "    val_loss = 0\n",
        "    y_true, y_pred = [], []\n",
        "    for data in loader_val:\n",
        "        # -- write your codes here\n",
        "        inputs, labels = data\n",
        "        if use_cuda:\n",
        "          inputs, labels = inputs.cuda(), labels.cuda()\n",
        "        with torch.no_grad():\n",
        "          outputs = model(inputs)\n",
        "          loss = criterion(outputs.view(-1), labels.float())\n",
        "          val_loss += loss.item()\n",
        "          if use_cuda:\n",
        "            y_pred.extend(torch.round(torch.sigmoid(outputs.view(-1))).cpu().detach().numpy())\n",
        "            y_true.extend(labels.cpu().numpy())\n",
        "          else:\n",
        "            y_pred.extend(torch.round(torch.sigmoid(outputs.view(-1))).detach().numpy())\n",
        "            y_true.extend(labels.numpy())\n",
        "\n",
        "    ### record the validation loss and metrics, save the best checkpoint\n",
        "    # -- write your codes here\n",
        "    val_loss /= len(loader_val.dataset)\n",
        "    val_loss_record.append(val_loss)\n",
        "    auc = roc_auc_score(y_true, y_pred)\n",
        "    acc = accuracy_score(y_true, y_pred)\n",
        "    val_acc_record.append(acc)\n",
        "    val_auc_record.append(auc)\n",
        "    print(f\"--- val_loss={val_loss}, val_auc={auc}, val_acc={acc}\")\n",
        "    # if val_loss > best_val_loss:\n",
        "    #   best_val_loss = val_loss\n",
        "    if best_val_auc < auc:\n",
        "      best_val_auc = auc\n",
        "      best_model = model\n",
        "\n",
        "\n",
        "### evaluate on test set\n",
        "model.eval()\n",
        "y_true, y_pred = [], []\n",
        "for data in loader_test:\n",
        "  # -- write your codes here\n",
        "  inputs, labels = data\n",
        "  if use_cuda:\n",
        "    inputs, labels = inputs.cuda(), labels.cuda()\n",
        "  with torch.no_grad():\n",
        "    outputs = model(inputs)\n",
        "    if use_cuda:\n",
        "      y_pred.extend(torch.round(torch.sigmoid(outputs.view(-1))).cpu().detach().numpy())\n",
        "      y_true.extend(labels.cpu().numpy())\n",
        "    else:\n",
        "      y_pred.extend(torch.round(torch.sigmoid(outputs.view(-1))).detach().numpy())\n",
        "      y_true.extend(labels.numpy())\n",
        "\n",
        "### compute and print the metrics on test set\n",
        "# -- write your codes here\n",
        "auc = roc_auc_score(y_true, y_pred)\n",
        "acc = accuracy_score(y_true, y_pred)\n",
        "print(f\"test_auc={auc}, test_acc={acc}\")"
      ],
      "metadata": {
        "colab": {
          "base_uri": "https://localhost:8080/"
        },
        "id": "CJVDDAJuj9F_",
        "outputId": "b7ba07c4-6922-4efa-d5b7-8822a1571418"
      },
      "execution_count": null,
      "outputs": [
        {
          "output_type": "stream",
          "name": "stdout",
          "text": [
            " -- Epoch 1/20\n"
          ]
        },
        {
          "output_type": "stream",
          "name": "stderr",
          "text": [
            "100%|██████████| 73/73 [00:39<00:00,  1.87it/s]\n"
          ]
        },
        {
          "output_type": "stream",
          "name": "stdout",
          "text": [
            "Epoch 0: train_loss=0.044160509283599984, train_auc=0.5214776632302405, train_acc=0.5214776632302406\n",
            "--- val_loss=0.04235044618447622, val_auc=0.5004926108374383, val_acc=0.7888888888888889\n",
            " -- Epoch 2/20\n"
          ]
        },
        {
          "output_type": "stream",
          "name": "stderr",
          "text": [
            "100%|██████████| 73/73 [00:39<00:00,  1.86it/s]\n"
          ]
        },
        {
          "output_type": "stream",
          "name": "stdout",
          "text": [
            "Epoch 1: train_loss=0.042801045572634824, train_auc=0.5584192439862543, train_acc=0.5584192439862543\n",
            "--- val_loss=0.04844321062167486, val_auc=0.5733990147783251, val_acc=0.5222222222222223\n",
            " -- Epoch 3/20\n"
          ]
        },
        {
          "output_type": "stream",
          "name": "stderr",
          "text": [
            "100%|██████████| 73/73 [00:38<00:00,  1.91it/s]\n"
          ]
        },
        {
          "output_type": "stream",
          "name": "stdout",
          "text": [
            "Epoch 2: train_loss=0.04281133669348517, train_auc=0.5678694158075601, train_acc=0.5678694158075601\n",
            "--- val_loss=0.04384964009126027, val_auc=0.5729064039408868, val_acc=0.6611111111111111\n",
            " -- Epoch 4/20\n"
          ]
        },
        {
          "output_type": "stream",
          "name": "stderr",
          "text": [
            "100%|██████████| 73/73 [00:39<00:00,  1.87it/s]\n"
          ]
        },
        {
          "output_type": "stream",
          "name": "stdout",
          "text": [
            "Epoch 3: train_loss=0.042192739309723844, train_auc=0.5764604810996563, train_acc=0.5764604810996563\n",
            "--- val_loss=0.048033711976475185, val_auc=0.5502463054187192, val_acc=0.45\n",
            " -- Epoch 5/20\n"
          ]
        },
        {
          "output_type": "stream",
          "name": "stderr",
          "text": [
            "100%|██████████| 73/73 [00:38<00:00,  1.89it/s]\n"
          ]
        },
        {
          "output_type": "stream",
          "name": "stdout",
          "text": [
            "Epoch 4: train_loss=0.04066966258987938, train_auc=0.609106529209622, train_acc=0.6091065292096219\n",
            "--- val_loss=0.0394462635119756, val_auc=0.6492610837438423, val_acc=0.7666666666666667\n",
            " -- Epoch 6/20\n"
          ]
        },
        {
          "output_type": "stream",
          "name": "stderr",
          "text": [
            "100%|██████████| 73/73 [00:38<00:00,  1.89it/s]\n"
          ]
        },
        {
          "output_type": "stream",
          "name": "stdout",
          "text": [
            "Epoch 5: train_loss=0.04100212879811775, train_auc=0.6194158075601375, train_acc=0.6194158075601375\n",
            "--- val_loss=0.061905461549758914, val_auc=0.5793103448275863, val_acc=0.4444444444444444\n",
            " -- Epoch 7/20\n"
          ]
        },
        {
          "output_type": "stream",
          "name": "stderr",
          "text": [
            "100%|██████████| 73/73 [00:37<00:00,  1.97it/s]\n"
          ]
        },
        {
          "output_type": "stream",
          "name": "stdout",
          "text": [
            "Epoch 6: train_loss=0.040430996733432784, train_auc=0.6228522336769758, train_acc=0.622852233676976\n",
            "--- val_loss=0.03916471650203069, val_auc=0.6334975369458127, val_acc=0.6888888888888889\n",
            " -- Epoch 8/20\n"
          ]
        },
        {
          "output_type": "stream",
          "name": "stderr",
          "text": [
            "100%|██████████| 73/73 [00:38<00:00,  1.89it/s]\n"
          ]
        },
        {
          "output_type": "stream",
          "name": "stdout",
          "text": [
            "Epoch 7: train_loss=0.03991438783833252, train_auc=0.6245704467353952, train_acc=0.6245704467353952\n",
            "--- val_loss=0.05620698630809784, val_auc=0.5620689655172414, val_acc=0.4166666666666667\n",
            " -- Epoch 9/20\n"
          ]
        },
        {
          "output_type": "stream",
          "name": "stderr",
          "text": [
            "100%|██████████| 73/73 [00:38<00:00,  1.90it/s]\n"
          ]
        },
        {
          "output_type": "stream",
          "name": "stdout",
          "text": [
            "Epoch 8: train_loss=0.03958454108524978, train_auc=0.6529209621993126, train_acc=0.6529209621993127\n",
            "--- val_loss=0.056980191005600825, val_auc=0.6049261083743842, val_acc=0.43333333333333335\n",
            " -- Epoch 10/20\n"
          ]
        },
        {
          "output_type": "stream",
          "name": "stderr",
          "text": [
            "100%|██████████| 73/73 [00:38<00:00,  1.89it/s]\n"
          ]
        },
        {
          "output_type": "stream",
          "name": "stdout",
          "text": [
            "Epoch 9: train_loss=0.03925824598041187, train_auc=0.6383161512027491, train_acc=0.6383161512027491\n",
            "--- val_loss=0.03910361015134388, val_auc=0.5615763546798029, val_acc=0.6777777777777778\n",
            " -- Epoch 11/20\n"
          ]
        },
        {
          "output_type": "stream",
          "name": "stderr",
          "text": [
            "100%|██████████| 73/73 [00:38<00:00,  1.89it/s]\n"
          ]
        },
        {
          "output_type": "stream",
          "name": "stdout",
          "text": [
            "Epoch 10: train_loss=0.039151745051452795, train_auc=0.6469072164948454, train_acc=0.6469072164948454\n",
            "--- val_loss=0.05140806155072318, val_auc=0.6536945812807882, val_acc=0.49444444444444446\n",
            " -- Epoch 12/20\n"
          ]
        },
        {
          "output_type": "stream",
          "name": "stderr",
          "text": [
            "100%|██████████| 73/73 [00:38<00:00,  1.89it/s]\n"
          ]
        },
        {
          "output_type": "stream",
          "name": "stdout",
          "text": [
            "Epoch 11: train_loss=0.03902158988607708, train_auc=0.6374570446735395, train_acc=0.6374570446735395\n",
            "--- val_loss=0.043952953981028664, val_auc=0.6389162561576354, val_acc=0.6277777777777778\n",
            " -- Epoch 13/20\n"
          ]
        },
        {
          "output_type": "stream",
          "name": "stderr",
          "text": [
            "100%|██████████| 73/73 [00:38<00:00,  1.87it/s]\n"
          ]
        },
        {
          "output_type": "stream",
          "name": "stdout",
          "text": [
            "Epoch 12: train_loss=0.03849390405150214, train_auc=0.6486254295532646, train_acc=0.6486254295532646\n",
            "--- val_loss=0.04908978740374247, val_auc=0.570935960591133, val_acc=0.48333333333333334\n",
            " -- Epoch 14/20\n"
          ]
        },
        {
          "output_type": "stream",
          "name": "stderr",
          "text": [
            "100%|██████████| 73/73 [00:38<00:00,  1.91it/s]\n"
          ]
        },
        {
          "output_type": "stream",
          "name": "stdout",
          "text": [
            "Epoch 13: train_loss=0.03879716754266896, train_auc=0.6331615120274915, train_acc=0.6331615120274914\n",
            "--- val_loss=0.05569880604743958, val_auc=0.6344827586206897, val_acc=0.5333333333333333\n",
            " -- Epoch 15/20\n"
          ]
        },
        {
          "output_type": "stream",
          "name": "stderr",
          "text": [
            "100%|██████████| 73/73 [00:39<00:00,  1.84it/s]\n"
          ]
        },
        {
          "output_type": "stream",
          "name": "stdout",
          "text": [
            "Epoch 14: train_loss=0.03744115091578657, train_auc=0.654639175257732, train_acc=0.654639175257732\n",
            "--- val_loss=0.037685191962454054, val_auc=0.5704433497536945, val_acc=0.7444444444444445\n",
            " -- Epoch 16/20\n"
          ]
        },
        {
          "output_type": "stream",
          "name": "stderr",
          "text": [
            "100%|██████████| 73/73 [00:38<00:00,  1.87it/s]\n"
          ]
        },
        {
          "output_type": "stream",
          "name": "stdout",
          "text": [
            "Epoch 15: train_loss=0.03871302104385448, train_auc=0.63659793814433, train_acc=0.6365979381443299\n",
            "--- val_loss=0.039565905928611755, val_auc=0.5763546798029557, val_acc=0.6666666666666666\n",
            " -- Epoch 17/20\n"
          ]
        },
        {
          "output_type": "stream",
          "name": "stderr",
          "text": [
            "100%|██████████| 73/73 [00:39<00:00,  1.85it/s]\n"
          ]
        },
        {
          "output_type": "stream",
          "name": "stdout",
          "text": [
            "Epoch 16: train_loss=0.03801658191426923, train_auc=0.6443298969072164, train_acc=0.6443298969072165\n",
            "--- val_loss=0.041697995199097525, val_auc=0.6339901477832512, val_acc=0.6722222222222223\n",
            " -- Epoch 18/20\n"
          ]
        },
        {
          "output_type": "stream",
          "name": "stderr",
          "text": [
            "100%|██████████| 73/73 [00:39<00:00,  1.87it/s]\n"
          ]
        },
        {
          "output_type": "stream",
          "name": "stdout",
          "text": [
            "Epoch 17: train_loss=0.03863294647936149, train_auc=0.654639175257732, train_acc=0.654639175257732\n",
            "--- val_loss=0.044950638959805174, val_auc=0.5847290640394088, val_acc=0.6277777777777778\n",
            " -- Epoch 19/20\n"
          ]
        },
        {
          "output_type": "stream",
          "name": "stderr",
          "text": [
            "100%|██████████| 73/73 [00:39<00:00,  1.86it/s]\n"
          ]
        },
        {
          "output_type": "stream",
          "name": "stdout",
          "text": [
            "Epoch 18: train_loss=0.038069424043406325, train_auc=0.6554982817869416, train_acc=0.6554982817869416\n",
            "--- val_loss=0.04338726898034414, val_auc=0.6, val_acc=0.6\n",
            " -- Epoch 20/20\n"
          ]
        },
        {
          "output_type": "stream",
          "name": "stderr",
          "text": [
            "100%|██████████| 73/73 [00:38<00:00,  1.89it/s]\n"
          ]
        },
        {
          "output_type": "stream",
          "name": "stdout",
          "text": [
            "Epoch 19: train_loss=0.03703537368282829, train_auc=0.6804123711340206, train_acc=0.6804123711340206\n",
            "--- val_loss=0.04809591389364666, val_auc=0.6507389162561577, val_acc=0.5944444444444444\n",
            "test_auc=0.6944956140350877, test_acc=0.6226912928759895\n"
          ]
        }
      ]
    }
  ],
  "metadata": {
    "accelerator": "GPU",
    "colab": {
      "gpuType": "T4",
      "toc_visible": true,
      "provenance": [],
      "include_colab_link": true
    },
    "kernelspec": {
      "display_name": "Python 3",
      "name": "python3"
    },
    "language_info": {
      "codemirror_mode": {
        "name": "ipython",
        "version": 3
      },
      "file_extension": ".py",
      "mimetype": "text/x-python",
      "name": "python",
      "nbconvert_exporter": "python",
      "pygments_lexer": "ipython3",
      "version": "3.7.13"
    },
    "vscode": {
      "interpreter": {
        "hash": "0f056848cf5d2396a4970b625f23716aa539c2ff5334414c1b5d98d7daae66f6"
      }
    }
  },
  "nbformat": 4,
  "nbformat_minor": 0
}